{
  "nbformat": 4,
  "nbformat_minor": 0,
  "metadata": {
    "colab": {
      "provenance": [],
      "include_colab_link": true
    },
    "kernelspec": {
      "name": "python3",
      "display_name": "Python 3"
    },
    "language_info": {
      "name": "python"
    }
  },
  "cells": [
    {
      "cell_type": "markdown",
      "metadata": {
        "id": "view-in-github",
        "colab_type": "text"
      },
      "source": [
        "<a href=\"https://colab.research.google.com/github/KkazeKa/Sentiment-Analysis/blob/master/sentiment_analysis_vader.ipynb\" target=\"_parent\"><img src=\"https://colab.research.google.com/assets/colab-badge.svg\" alt=\"Open In Colab\"/></a>"
      ]
    },
    {
      "cell_type": "code",
      "source": [
        "from bs4 import BeautifulSoup\n",
        "import requests\n",
        "import numpy as np\n",
        "import pandas as pd"
      ],
      "metadata": {
        "id": "gDIyLblqWYp2"
      },
      "execution_count": null,
      "outputs": []
    },
    {
      "cell_type": "code",
      "source": [
        "movie = input(\"put movie link\")"
      ],
      "metadata": {
        "colab": {
          "base_uri": "https://localhost:8080/"
        },
        "id": "ERIT_6m1dXu7",
        "outputId": "2898f7c2-4cb9-45ab-8e17-f6e574c5f322"
      },
      "execution_count": null,
      "outputs": [
        {
          "name": "stdout",
          "output_type": "stream",
          "text": [
            "put movie linkhttps://www.imdb.com/title/tt2935510/reviews?ref_=tt_urv\n"
          ]
        }
      ]
    },
    {
      "cell_type": "code",
      "source": [
        "page = requests.get(movie)"
      ],
      "metadata": {
        "id": "J9b04EOdWIm-"
      },
      "execution_count": null,
      "outputs": []
    },
    {
      "cell_type": "code",
      "source": [
        "soup = BeautifulSoup(page.content, \"html.parser\")"
      ],
      "metadata": {
        "id": "57HpTVDiWbv1"
      },
      "execution_count": null,
      "outputs": []
    },
    {
      "cell_type": "code",
      "source": [
        "rev = soup.findAll('div', class_='text show-more__control')"
      ],
      "metadata": {
        "id": "qMM1jmA5WeLu"
      },
      "execution_count": null,
      "outputs": []
    },
    {
      "cell_type": "code",
      "source": [
        "movies = []\n",
        "for movie in rev:\n",
        "    movies.append(movie.text)"
      ],
      "metadata": {
        "id": "k0k8dqvCWeOF"
      },
      "execution_count": null,
      "outputs": []
    },
    {
      "cell_type": "code",
      "source": [
        "df_subset = pd.DataFrame()"
      ],
      "metadata": {
        "id": "BgqPcL9NWeQr"
      },
      "execution_count": null,
      "outputs": []
    },
    {
      "cell_type": "code",
      "source": [
        "df_subset ['Reviews of THE GOD FATHER film']=movies"
      ],
      "metadata": {
        "id": "QDu1JBycWkp-"
      },
      "execution_count": null,
      "outputs": []
    },
    {
      "cell_type": "code",
      "source": [
        "\n",
        "import re\n",
        "import pandas as pd\n",
        "import matplotlib.pyplot as plt\n",
        "import nltk\n",
        "from nltk.sentiment.vader import SentimentIntensityAnalyzer\n",
        "nltk.download('vader_lexicon')"
      ],
      "metadata": {
        "colab": {
          "base_uri": "https://localhost:8080/"
        },
        "id": "_ahcZ9vvX4wt",
        "outputId": "2831811e-b6a0-47ab-ebe2-48f2a41e028c"
      },
      "execution_count": null,
      "outputs": [
        {
          "output_type": "stream",
          "name": "stderr",
          "text": [
            "[nltk_data] Downloading package vader_lexicon to /root/nltk_data...\n"
          ]
        },
        {
          "output_type": "execute_result",
          "data": {
            "text/plain": [
              "True"
            ]
          },
          "metadata": {},
          "execution_count": 9
        }
      ]
    },
    {
      "cell_type": "code",
      "source": [
        "# set up empty dataframe for staging output\n",
        "df1=pd.DataFrame()\n",
        "df1['row_id']=['99999999999']\n",
        "df1['sentiment_type']='NA999NA'\n",
        "df1['sentiment_score']=0"
      ],
      "metadata": {
        "id": "pgbLeY3iXmdt"
      },
      "execution_count": null,
      "outputs": []
    },
    {
      "cell_type": "code",
      "source": [
        "print('Processing sentiment analysis...')\n",
        "sid = SentimentIntensityAnalyzer()\n",
        "t_df = df1\n",
        "for index, row in df_subset.iterrows():\n",
        "    scores = sid.polarity_scores(row[0])\n",
        "    for key, value in scores.items():\n",
        "        temp = [key,value,row[0]]\n",
        "        df1['row_id']=row[0]\n",
        "        df1['sentiment_type']=key\n",
        "        df1['sentiment_score']=value\n",
        "        t_df=t_df.append(df1)\n",
        "#remove dummy row with row_id = 99999999999\n",
        "t_df_cleaned = t_df[t_df.row_id != '99999999999']\n",
        "#remove duplicates if any exist\n",
        "t_df_cleaned = t_df_cleaned.drop_duplicates()\n",
        "# only keep rows where sentiment_type = compound\n",
        "t_df_cleaned = t_df[t_df.sentiment_type == 'compound']\n",
        "print(t_df_cleaned.head(10))"
      ],
      "metadata": {
        "colab": {
          "base_uri": "https://localhost:8080/"
        },
        "id": "qzcx_sKbXxF-",
        "outputId": "4237d34e-c0b2-4c73-f2b0-a1407e56eadb"
      },
      "execution_count": null,
      "outputs": [
        {
          "output_type": "stream",
          "name": "stdout",
          "text": [
            "Processing sentiment analysis...\n",
            "                                              row_id sentiment_type  \\\n",
            "0  My wife and I watched this at home on DVD from...       compound   \n",
            "0  Perhaps if it had committed to one of its stoo...       compound   \n",
            "0  Hello from Earth, Moon, Mars, Neptune, Space.\\...       compound   \n",
            "0  \"Ad Astra\" starts out well, but it deteriorate...       compound   \n",
            "0  The first thing you find out in this movie is ...       compound   \n",
            "0  'Ad Astra' was a film I knew nothing about goi...       compound   \n",
            "0  Where do I begin?Not an action movie although ...       compound   \n",
            "0  I generally like slow burn psychological drama...       compound   \n",
            "0  I love seeing different ways in which new spac...       compound   \n",
            "0  Its basically a story of Brad Pitt having dadd...       compound   \n",
            "\n",
            "   sentiment_score  \n",
            "0          -0.9484  \n",
            "0           0.9878  \n",
            "0           0.9656  \n",
            "0           0.9277  \n",
            "0          -0.9155  \n",
            "0           0.8550  \n",
            "0           0.7375  \n",
            "0          -0.9764  \n",
            "0           0.9674  \n",
            "0          -0.8225  \n"
          ]
        }
      ]
    }
  ]
}